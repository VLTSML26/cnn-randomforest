{
 "cells": [
  {
   "cell_type": "markdown",
   "id": "b9d3dee5",
   "metadata": {},
   "source": [
    "# Machine Learning Lab"
   ]
  },
  {
   "cell_type": "markdown",
   "id": "2f67a0dd",
   "metadata": {},
   "source": [
    "This project aims at comparing the efficiency of Convolutional Neural Networks (CNN) with respect to Random Forest (RF) algorithms for the classification of data in the MNIST-fashion dataset."
   ]
  },
  {
   "cell_type": "code",
   "execution_count": 1,
   "id": "c48a82a2-3d13-4d77-b2c7-d97161473c25",
   "metadata": {},
   "outputs": [],
   "source": [
    "from classifiers import CNN, RandomForest\n",
    "from tensorflow import keras\n",
    "import matplotlib.pyplot as plt\n",
    "import matplotlib as mpl\n",
    "from keras.optimizers import SGD, Adam, RMSprop, Adagrad, Adadelta, Adam, Adamax, Nadam"
   ]
  },
  {
   "cell_type": "markdown",
   "id": "541a9e0c",
   "metadata": {},
   "source": [
    "## Convolutional Network"
   ]
  },
  {
   "cell_type": "markdown",
   "id": "0a0483b4",
   "metadata": {},
   "source": [
    "We shall compare different optimizers in order to improve performance when the neural network is tested against the RF approach. Here follow the candidates."
   ]
  },
  {
   "cell_type": "code",
   "execution_count": 2,
   "id": "b74397c1-9863-4b1e-bf4c-c87f42c6597f",
   "metadata": {},
   "outputs": [],
   "source": [
    "optimizers = ['SGD', 'Adam', 'RMSprop', 'Adagrad', 'Adadelta', 'Adam', 'Adamax', 'Nadam']"
   ]
  },
  {
   "cell_type": "markdown",
   "id": "cbdf37e5",
   "metadata": {},
   "source": [
    "The NN is configured as below."
   ]
  },
  {
   "cell_type": "code",
   "execution_count": 3,
   "id": "96243b1c-84c7-4f89-82ac-66d14f5cf438",
   "metadata": {},
   "outputs": [],
   "source": [
    "config_dicts = [{\n",
    "    'epochs': 5,\n",
    "    'dropout': 0.2,\n",
    "    'batch_size': 32,\n",
    "    'optimizer': optimizer,\n",
    "} for optimizer in optimizers]\n",
    "\n",
    "neuralnets = [CNN(keras.datasets.fashion_mnist, config_dict) for config_dict in config_dicts]"
   ]
  },
  {
   "cell_type": "code",
   "execution_count": null,
   "id": "6d76f2d8-d68f-41fb-9b96-36b5370f0579",
   "metadata": {},
   "outputs": [],
   "source": [
    "history = [neuralnet.train() for neuralnet in neuralnets]"
   ]
  },
  {
   "cell_type": "code",
   "execution_count": null,
   "id": "ec2b3989-cede-4f46-8806-d00c423e7fd0",
   "metadata": {},
   "outputs": [],
   "source": [
    "indicators = ['loss', 'acc', 'val_loss', 'val_acc']\n",
    "fig, axs = plt.subplots(2, 2, figsize=(24,14))\n",
    "plt.grid(True)\n",
    "for ax, indicator in zip(axs.flatten(), indicators):\n",
    "    ax.set_title(indicator, fontsize=21)\n",
    "    for h, nn in zip(history, neuralnets):\n",
    "        ax.plot(h.history[indicator], label=nn.optimizer())\n",
    "        ax.legend()"
   ]
  },
  {
   "cell_type": "code",
   "execution_count": null,
   "id": "baaebc3c-f4ff-4f41-a9fc-1814df35e7ee",
   "metadata": {},
   "outputs": [],
   "source": [
    "for nn in neuralnets:\n",
    "    print(nn.evaluate())"
   ]
  }
 ],
 "metadata": {
  "kernelspec": {
   "display_name": "Python 3 (ipykernel)",
   "language": "python",
   "name": "python3"
  },
  "language_info": {
   "codemirror_mode": {
    "name": "ipython",
    "version": 3
   },
   "file_extension": ".py",
   "mimetype": "text/x-python",
   "name": "python",
   "nbconvert_exporter": "python",
   "pygments_lexer": "ipython3",
   "version": "3.9.7"
  }
 },
 "nbformat": 4,
 "nbformat_minor": 5
}
